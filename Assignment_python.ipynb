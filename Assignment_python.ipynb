{
 "cells": [
  {
   "cell_type": "markdown",
   "id": "581017d5",
   "metadata": {},
   "source": [
    "## write a program that can take name in lower case and return it upper case use a function and use map function"
   ]
  },
  {
   "cell_type": "code",
   "execution_count": 4,
   "id": "b0fca740",
   "metadata": {},
   "outputs": [
    {
     "name": "stdout",
     "output_type": "stream",
     "text": [
      "['YOUSEEF', 'YASEER', 'HOSNI', 'ALBAGHDADY']\n"
     ]
    }
   ],
   "source": [
    "def convert_to_uppercase(name):\n",
    "    return name.upper()\n",
    "\n",
    "name_list = ['youseef', 'yaseer', 'hosni', 'albaghdady']\n",
    "\n",
    "uppercase_names = list(map(convert_to_uppercase, name_list))\n",
    "print(uppercase_names)"
   ]
  },
  {
   "cell_type": "markdown",
   "id": "463ac4ae",
   "metadata": {},
   "source": [
    "## write a program that can take a Number and check for it(Prime or Not) use function and use map function"
   ]
  },
  {
   "cell_type": "code",
   "execution_count": 12,
   "id": "992c1223",
   "metadata": {},
   "outputs": [
    {
     "name": "stdout",
     "output_type": "stream",
     "text": [
      "[False, True, True, True, False, True, False, True, False]\n"
     ]
    }
   ],
   "source": [
    "def check_prime(num):\n",
    "    if num < 2:\n",
    "        return False\n",
    "    \n",
    "    for i in range(2,int(math.sqrt(num))+1):\n",
    "        if num%i==0:\n",
    "            return False\n",
    "    return True\n",
    "\n",
    "numbers = [1, 3,5, 7, 9, 11, 15, 17,21] \n",
    "\n",
    "prime_numbers = list(map(check_prime, numbers))\n",
    "\n",
    "print(prime_numbers)"
   ]
  },
  {
   "cell_type": "code",
   "execution_count": null,
   "id": "4af29b4d",
   "metadata": {},
   "outputs": [],
   "source": []
  }
 ],
 "metadata": {
  "kernelspec": {
   "display_name": "Python 3 (ipykernel)",
   "language": "python",
   "name": "python3"
  },
  "language_info": {
   "codemirror_mode": {
    "name": "ipython",
    "version": 3
   },
   "file_extension": ".py",
   "mimetype": "text/x-python",
   "name": "python",
   "nbconvert_exporter": "python",
   "pygments_lexer": "ipython3",
   "version": "3.11.3"
  }
 },
 "nbformat": 4,
 "nbformat_minor": 5
}
